{
  "cells": [
    {
      "cell_type": "code",
      "execution_count": 4,
      "metadata": {},
      "outputs": [
        {
          "name": "stdout",
          "output_type": "stream",
          "text": [
            "Qualifire SDK Initialized Successfully!\n"
          ]
        }
      ],
      "source": [
        "import qualifire\n",
        "import os\n",
        "from dotenv import load_dotenv\n",
        "\n",
        "load_dotenv()\n",
        "\n",
        "QUALIFIRE_API_KEY = os.getenv(\"QUALIFIRE_API_KEY\")\n",
        "\n",
        "if not QUALIFIRE_API_KEY or QUALIFIRE_API_KEY == \"YOUR QUALIFIRE API KEY\":\n",
        "    print(\"Please replace 'YOUR QUALIFIRE API KEY' with your actual key.\")\n",
        "    raise ValueError(\"QUALIFIRE_API_KEY is not set\")\n",
        "else:\n",
        "    qualifire.init(\n",
        "        api_key=QUALIFIRE_API_KEY,\n",
        "    )\n",
        "    print(\"Qualifire SDK Initialized Successfully!\")"
      ]
    },
    {
      "cell_type": "code",
      "execution_count": 5,
      "metadata": {},
      "outputs": [
        {
          "name": "stdout",
          "output_type": "stream",
          "text": [
            "OpenAI API Key set.\n"
          ]
        }
      ],
      "source": [
        "OPENAI_API_KEY = os.getenv(\"OPENAI_API_KEY\")\n",
        "\n",
        "if not OPENAI_API_KEY or OPENAI_API_KEY == \"YOUR OPENAI API KEY\":\n",
        "    print(\"Please replace 'YOUR OPENAI API KEY' with your actual key for the agent to run.\")\n",
        "    raise ValueError(\"OPENAI_API_KEY is not set\")\n",
        "else:\n",
        "    print(\"OpenAI API Key set.\")\n",
        "# Note: The agent code itself will pass this to the init_chat_model function.\n",
        "# Setting it as an environment variable here is good practice if other parts of LangGraph expect it.\n",
        "os.environ[\"OPENAI_API_KEY\"] = OPENAI_API_KEY"
      ]
    },
    {
      "cell_type": "code",
      "execution_count": null,
      "metadata": {},
      "outputs": [],
      "source": [
        "import requests\n",
        "\n",
        "from LangGraph.chat_models import init_chat_model\n",
        "from LangGraph_community.utilities import SQLDatabase\n",
        "from LangGraph_community.agent_toolkits import SQLDatabaseToolkit\n",
        "from langgraph.prebuilt import create_react_agent\n",
        "\n",
        "print(\"Imported necessary libraries for the agent.\")\n",
        "\n",
        "# Check if API keys are set before proceeding\n",
        "if QUALIFIRE_API_KEY == \"YOUR QUALIFIRE API KEY\" or OPENAI_API_KEY == \"YOUR OPENAI API KEY\":\n",
        "    print(\"\\nERROR: API keys are not set. Please set QUALIFIRE_API_KEY and OPENAI_API_KEY in the cells above.\\n\")\n",
        "else:\n",
        "    print(\"\\nAPI keys seem to be set. Proceeding with agent initialization.\\n\")\n",
        " \n",
        "    # Initialize the LLM\n",
        "    llm = init_chat_model(\n",
        "        \"openai:gpt-4.1\", # This can be ANY model supported by your init_chat_model\n",
        "        api_key=OPENAI_API_KEY,\n",
        "        base_url=\"https://proxy.qualifire.ai/api/providers/openai/\", # Needed for moderation we'll discuss that in the next tutorial\n",
        "        default_headers={\n",
        "            \"X-Qualifire-API-Key\": QUALIFIRE_API_KEY\n",
        "        },\n",
        "    )\n",
        "    print(\"LLM Initialized.\")\n",
        "\n",
        "    # Download the Chinook database\n",
        "    db_file_path = \"./assets/Chinook.db\"\n",
        "\n",
        "    # Setup SQL Database\n",
        "    db = SQLDatabase.from_uri(f\"sqlite:///{db_file_path}\")\n",
        "\n",
        "    # Setup SQL Database Toolkit\n",
        "    toolkit = SQLDatabaseToolkit(db=db, llm=llm)\n",
        "    tools = toolkit.get_tools()\n",
        "    print(\"\\nAvailable Tools:\")\n",
        "    for tool in tools:\n",
        "        print(f\"- {tool.name}: {tool.description}\")\n",
        "\n",
        "    # Define the system prompt for the agent\n",
        "    system_prompt_string = \"\"\"\n",
        "You are an agent designed to interact with a SQL database.\n",
        "Given an input question, create a syntactically correct {dialect} query to run,\n",
        "then look at the results of the query and return the answer. Unless the user\n",
        "specifies a specific number of examples they wish to obtain, always limit your\n",
        "query to at most {top_k} results.\n",
        "\n",
        "You can order the results by a relevant column to return the most interesting\n",
        "examples in the database. Never query for all the columns from a specific table,\n",
        "only ask for the relevant columns given the question.\n",
        "\n",
        "You MUST double check your query before executing it. If you get an error while\n",
        "executing a query, rewrite the query and try again.\n",
        "\n",
        "DO NOT make any DML statements (INSERT, UPDATE, DELETE, DROP etc.) to the\n",
        "database.\n",
        "\n",
        "To start you should ALWAYS look at the tables in the database to see what you\n",
        "can query. Do NOT skip this step.\n",
        "\n",
        "Then you should query the schema of the most relevant tables.\n",
        "\"\"\".format(\n",
        "        dialect=db.dialect,\n",
        "        top_k=5,\n",
        "    )\n",
        "\n",
        "    # Create the ReAct Agent\n",
        "    agent_executor = create_react_agent(\n",
        "        llm,\n",
        "        tools,\n",
        "        prompt=system_prompt_string,\n",
        "    )\n",
        "\n",
        "    print(\"\\nAgent executor created.\")\n",
        "\n",
        "    # Define a question and stream the agent's response\n",
        "    question = \"Which sales agent made the most in sales in 2009?\"\n",
        "    print(f\"\\nQuestion: {question}\\n\")\n",
        "    print(\"Streaming agent response:\")\n",
        "    print(\"-\" * 30)\n",
        "\n",
        "    try:\n",
        "        for step in agent_executor.stream(\n",
        "            {\"messages\": [{\"role\": \"user\", \"content\": question}]},\n",
        "            stream_mode=\"values\", # \"values\" provides the full state at each step\n",
        "        ):\n",
        "            # The 'messages' key contains a list of AIMessage, HumanMessage, etc.\n",
        "            # We're interested in the last message, which is usually the agent's thought or response.\n",
        "            if \"messages\" in step and step[\"messages\"]:\n",
        "                step[\"messages\"][-1].pretty_print()\n",
        "                print(\"-\" * 30)\n",
        "    except Exception as e:\n",
        "        print(f\"An error occurred during agent execution: {e}\")\n",
        "        print(\"This might be due to API key issues, network problems, or unexpected agent behavior.\")\n",
        "        print(\"Please check your API keys and network connection.\")\n",
        "        print(\"If the agent itself has an issue, the Qualifire traces (if captured) might provide insights.\")\n"
      ]
    }
  ],
  "metadata": {
    "kernelspec": {
      "display_name": ".venv",
      "language": "python",
      "name": "python3"
    },
    "language_info": {
      "codemirror_mode": {
        "name": "ipython",
        "version": 3
      },
      "file_extension": ".py",
      "mimetype": "text/x-python",
      "name": "python",
      "nbconvert_exporter": "python",
      "pygments_lexer": "ipython3",
      "version": "3.13.2"
    }
  },
  "nbformat": 4,
  "nbformat_minor": 2
}
